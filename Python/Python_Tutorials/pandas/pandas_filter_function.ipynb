{
 "cells": [
  {
   "cell_type": "code",
   "execution_count": 4,
   "metadata": {},
   "outputs": [],
   "source": [
    "import pandas as pd "
   ]
  },
  {
   "cell_type": "code",
   "execution_count": 5,
   "metadata": {},
   "outputs": [],
   "source": [
    "from hs_restclient import HydroShare"
   ]
  },
  {
   "cell_type": "code",
   "execution_count": 6,
   "metadata": {},
   "outputs": [],
   "source": [
    "hs = HydroShare()"
   ]
  },
  {
   "cell_type": "code",
   "execution_count": 91,
   "metadata": {},
   "outputs": [],
   "source": [
    "results = hs.resources(coverage_type=\"box\",north=20,south=20,east=20,west=20)"
   ]
  },
  {
   "cell_type": "code",
   "execution_count": null,
   "metadata": {},
   "outputs": [],
   "source": []
  },
  {
   "cell_type": "code",
   "execution_count": 92,
   "metadata": {},
   "outputs": [
    {
     "name": "stdout",
     "output_type": "stream",
     "text": [
      "                                             bag_url  \\\n",
      "0  http://www.hydroshare.org/django_irods/downloa...   \n",
      "1  http://www.hydroshare.org/django_irods/downloa...   \n",
      "2  http://www.hydroshare.org/django_irods/downloa...   \n",
      "3  http://www.hydroshare.org/django_irods/downloa...   \n",
      "\n",
      "                                           coverages                creator  \\\n",
      "0  [{'type': 'box', 'value': {'northlimit': 71.38...                Drew Li   \n",
      "1  [{'type': 'box', 'value': {'northlimit': 71.39...  Christina Bandaragoda   \n",
      "2  [{'type': 'box', 'value': {'northlimit': 71.39...  Christina Bandaragoda   \n",
      "3  [{'type': 'box', 'value': {'northlimit': 71.39...  Christina Bandaragoda   \n",
      "\n",
      "  date_created date_last_updated  discoverable  immutable  public  published  \\\n",
      "0   11-03-2015        08-12-2016          True      False    True      False   \n",
      "1   07-28-2016        11-17-2017          True      False    True      False   \n",
      "2   08-02-2016        11-16-2017          True      False    True      False   \n",
      "3   08-02-2016        08-19-2016          True      False    True      False   \n",
      "\n",
      "                        resource_id  \\\n",
      "0  9b1d9d540f8e44238b3d5c2648a1d178   \n",
      "1  d15b9934f34e4c57913b3cb53966d5c7   \n",
      "2  fb17642c00bc4c3489878a672322caa4   \n",
      "3  bb01915e95234f35b296d780efeacefd   \n",
      "\n",
      "                                    resource_map_url  \\\n",
      "0  http://www.hydroshare.org/hsapi/resource/9b1d9...   \n",
      "1  http://www.hydroshare.org/hsapi/resource/d15b9...   \n",
      "2  http://www.hydroshare.org/hsapi/resource/fb176...   \n",
      "3  http://www.hydroshare.org/hsapi/resource/bb019...   \n",
      "\n",
      "                                      resource_title  \\\n",
      "0                                          US States   \n",
      "1                 Lower Nooksack Water Budget (LNWB)   \n",
      "2                LNWB Ch06 Soil Processes and Inputs   \n",
      "3  LNWB Ch06 Soil Processes and Inputs - STATSGO ...   \n",
      "\n",
      "               resource_type  \\\n",
      "0  GeographicFeatureResource   \n",
      "1         CollectionResource   \n",
      "2         CollectionResource   \n",
      "3  GeographicFeatureResource   \n",
      "\n",
      "                                        resource_url  \\\n",
      "0  http://www.hydroshare.org/resource/9b1d9d540f8...   \n",
      "1  http://www.hydroshare.org/resource/d15b9934f34...   \n",
      "2  http://www.hydroshare.org/resource/fb17642c00b...   \n",
      "3  http://www.hydroshare.org/resource/bb01915e952...   \n",
      "\n",
      "                                science_metadata_url  shareable  \n",
      "0  http://www.hydroshare.org/hsapi/resource/9b1d9...       True  \n",
      "1  http://www.hydroshare.org/hsapi/resource/d15b9...       True  \n",
      "2  http://www.hydroshare.org/hsapi/resource/fb176...       True  \n",
      "3  http://www.hydroshare.org/hsapi/resource/bb019...       True  \n"
     ]
    }
   ],
   "source": [
    "features = [];\n",
    "for index in results:\n",
    "    for key, value in index.items():\n",
    "        if key == 'coverages':\n",
    "            if value:\n",
    "                features.append(index)\n",
    "\n",
    "features = pd.DataFrame(features)\n",
    "print(features)"
   ]
  },
  {
   "cell_type": "code",
   "execution_count": null,
   "metadata": {},
   "outputs": [],
   "source": []
  },
  {
   "cell_type": "code",
   "execution_count": null,
   "metadata": {},
   "outputs": [],
   "source": [
    "position = 0\n",
    "for index, value in features['coverages'].items():\n",
    "    if not value:\n",
    "        features.drop(features.index[position], inplace=True)\n",
    "        print(\"HERE\")\n",
    "    position += 1\n",
    "\n",
    "print(features)"
   ]
  },
  {
   "cell_type": "code",
   "execution_count": null,
   "metadata": {},
   "outputs": [],
   "source": [
    "features.drop(features.index[0], inplace=True)\n",
    "features.drop(features.index[1], inplace=True)\n",
    "print(features)\n"
   ]
  },
  {
   "cell_type": "code",
   "execution_count": null,
   "metadata": {},
   "outputs": [],
   "source": []
  },
  {
   "cell_type": "code",
   "execution_count": null,
   "metadata": {},
   "outputs": [],
   "source": []
  }
 ],
 "metadata": {
  "kernelspec": {
   "display_name": "Python 3",
   "language": "python",
   "name": "python3"
  },
  "language_info": {
   "codemirror_mode": {
    "name": "ipython",
    "version": 3
   },
   "file_extension": ".py",
   "mimetype": "text/x-python",
   "name": "python",
   "nbconvert_exporter": "python",
   "pygments_lexer": "ipython3",
   "version": "3.6.3"
  }
 },
 "nbformat": 4,
 "nbformat_minor": 2
}
